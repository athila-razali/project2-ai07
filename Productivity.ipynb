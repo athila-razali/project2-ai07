{
 "cells": [
  {
   "cell_type": "markdown",
   "id": "6a9d1e2e",
   "metadata": {},
   "source": [
    "# Productivity Prediction\n",
    "\n",
    "## Goal: To predict the employees' productivity.\n",
    "\n",
    "Data Source: https://archive.ics.uci.edu/ml/datasets/Productivity+Prediction+of+Garment+Employees#"
   ]
  },
  {
   "cell_type": "markdown",
   "id": "6cf18f77",
   "metadata": {},
   "source": [
    "### 1. Import necessary packages"
   ]
  },
  {
   "cell_type": "code",
   "execution_count": 1,
   "id": "ab7bb8ee",
   "metadata": {},
   "outputs": [],
   "source": [
    "import tensorflow as tf\n",
    "from tensorflow import keras\n",
    "from tensorflow.keras import layers\n",
    "import sklearn.datasets as skdatasets\n",
    "from sklearn.model_selection import train_test_split\n",
    "import numpy as np\n",
    "import pandas as pd\n",
    "import matplotlib.pyplot as plt"
   ]
  },
  {
   "cell_type": "markdown",
   "id": "edb5b0cf",
   "metadata": {},
   "source": [
    "### 2. Data Preparation"
   ]
  },
  {
   "cell_type": "code",
   "execution_count": 2,
   "id": "c7ec07a5",
   "metadata": {},
   "outputs": [
    {
     "data": {
      "text/html": [
       "<div>\n",
       "<style scoped>\n",
       "    .dataframe tbody tr th:only-of-type {\n",
       "        vertical-align: middle;\n",
       "    }\n",
       "\n",
       "    .dataframe tbody tr th {\n",
       "        vertical-align: top;\n",
       "    }\n",
       "\n",
       "    .dataframe thead th {\n",
       "        text-align: right;\n",
       "    }\n",
       "</style>\n",
       "<table border=\"1\" class=\"dataframe\">\n",
       "  <thead>\n",
       "    <tr style=\"text-align: right;\">\n",
       "      <th></th>\n",
       "      <th>date</th>\n",
       "      <th>quarter</th>\n",
       "      <th>department</th>\n",
       "      <th>day</th>\n",
       "      <th>team</th>\n",
       "      <th>targeted_productivity</th>\n",
       "      <th>smv</th>\n",
       "      <th>wip</th>\n",
       "      <th>over_time</th>\n",
       "      <th>incentive</th>\n",
       "      <th>idle_time</th>\n",
       "      <th>idle_men</th>\n",
       "      <th>no_of_style_change</th>\n",
       "      <th>no_of_workers</th>\n",
       "      <th>actual_productivity</th>\n",
       "    </tr>\n",
       "  </thead>\n",
       "  <tbody>\n",
       "    <tr>\n",
       "      <th>0</th>\n",
       "      <td>1/1/2015</td>\n",
       "      <td>Quarter1</td>\n",
       "      <td>sweing</td>\n",
       "      <td>Thursday</td>\n",
       "      <td>8</td>\n",
       "      <td>0.80</td>\n",
       "      <td>26.16</td>\n",
       "      <td>1108.0</td>\n",
       "      <td>7080</td>\n",
       "      <td>98</td>\n",
       "      <td>0.0</td>\n",
       "      <td>0</td>\n",
       "      <td>0</td>\n",
       "      <td>59.0</td>\n",
       "      <td>0.940725</td>\n",
       "    </tr>\n",
       "    <tr>\n",
       "      <th>1</th>\n",
       "      <td>1/1/2015</td>\n",
       "      <td>Quarter1</td>\n",
       "      <td>finishing</td>\n",
       "      <td>Thursday</td>\n",
       "      <td>1</td>\n",
       "      <td>0.75</td>\n",
       "      <td>3.94</td>\n",
       "      <td>NaN</td>\n",
       "      <td>960</td>\n",
       "      <td>0</td>\n",
       "      <td>0.0</td>\n",
       "      <td>0</td>\n",
       "      <td>0</td>\n",
       "      <td>8.0</td>\n",
       "      <td>0.886500</td>\n",
       "    </tr>\n",
       "    <tr>\n",
       "      <th>2</th>\n",
       "      <td>1/1/2015</td>\n",
       "      <td>Quarter1</td>\n",
       "      <td>sweing</td>\n",
       "      <td>Thursday</td>\n",
       "      <td>11</td>\n",
       "      <td>0.80</td>\n",
       "      <td>11.41</td>\n",
       "      <td>968.0</td>\n",
       "      <td>3660</td>\n",
       "      <td>50</td>\n",
       "      <td>0.0</td>\n",
       "      <td>0</td>\n",
       "      <td>0</td>\n",
       "      <td>30.5</td>\n",
       "      <td>0.800570</td>\n",
       "    </tr>\n",
       "    <tr>\n",
       "      <th>3</th>\n",
       "      <td>1/1/2015</td>\n",
       "      <td>Quarter1</td>\n",
       "      <td>sweing</td>\n",
       "      <td>Thursday</td>\n",
       "      <td>12</td>\n",
       "      <td>0.80</td>\n",
       "      <td>11.41</td>\n",
       "      <td>968.0</td>\n",
       "      <td>3660</td>\n",
       "      <td>50</td>\n",
       "      <td>0.0</td>\n",
       "      <td>0</td>\n",
       "      <td>0</td>\n",
       "      <td>30.5</td>\n",
       "      <td>0.800570</td>\n",
       "    </tr>\n",
       "    <tr>\n",
       "      <th>4</th>\n",
       "      <td>1/1/2015</td>\n",
       "      <td>Quarter1</td>\n",
       "      <td>sweing</td>\n",
       "      <td>Thursday</td>\n",
       "      <td>6</td>\n",
       "      <td>0.80</td>\n",
       "      <td>25.90</td>\n",
       "      <td>1170.0</td>\n",
       "      <td>1920</td>\n",
       "      <td>50</td>\n",
       "      <td>0.0</td>\n",
       "      <td>0</td>\n",
       "      <td>0</td>\n",
       "      <td>56.0</td>\n",
       "      <td>0.800382</td>\n",
       "    </tr>\n",
       "  </tbody>\n",
       "</table>\n",
       "</div>"
      ],
      "text/plain": [
       "       date   quarter  department       day  team  targeted_productivity  \\\n",
       "0  1/1/2015  Quarter1      sweing  Thursday     8                   0.80   \n",
       "1  1/1/2015  Quarter1  finishing   Thursday     1                   0.75   \n",
       "2  1/1/2015  Quarter1      sweing  Thursday    11                   0.80   \n",
       "3  1/1/2015  Quarter1      sweing  Thursday    12                   0.80   \n",
       "4  1/1/2015  Quarter1      sweing  Thursday     6                   0.80   \n",
       "\n",
       "     smv     wip  over_time  incentive  idle_time  idle_men  \\\n",
       "0  26.16  1108.0       7080         98        0.0         0   \n",
       "1   3.94     NaN        960          0        0.0         0   \n",
       "2  11.41   968.0       3660         50        0.0         0   \n",
       "3  11.41   968.0       3660         50        0.0         0   \n",
       "4  25.90  1170.0       1920         50        0.0         0   \n",
       "\n",
       "   no_of_style_change  no_of_workers  actual_productivity  \n",
       "0                   0           59.0             0.940725  \n",
       "1                   0            8.0             0.886500  \n",
       "2                   0           30.5             0.800570  \n",
       "3                   0           30.5             0.800570  \n",
       "4                   0           56.0             0.800382  "
      ]
     },
     "execution_count": 2,
     "metadata": {},
     "output_type": "execute_result"
    }
   ],
   "source": [
    "# Load datasets\n",
    "file_path = r\"C:\\Users\\user\\Desktop\\AI07\\Projects\\P2\\garments_worker_productivity.csv\"\n",
    "data = pd.read_csv(file_path, sep=\",\")\n",
    "data.head()"
   ]
  },
  {
   "cell_type": "code",
   "execution_count": 3,
   "id": "5caf70d8",
   "metadata": {},
   "outputs": [
    {
     "name": "stdout",
     "output_type": "stream",
     "text": [
      "date                       0\n",
      "quarter                    0\n",
      "department                 0\n",
      "day                        0\n",
      "team                       0\n",
      "targeted_productivity      0\n",
      "smv                        0\n",
      "wip                      506\n",
      "over_time                  0\n",
      "incentive                  0\n",
      "idle_time                  0\n",
      "idle_men                   0\n",
      "no_of_style_change         0\n",
      "no_of_workers              0\n",
      "actual_productivity        0\n",
      "dtype: int64\n"
     ]
    }
   ],
   "source": [
    "# Inspect for missing values\n",
    "print(data.isna().sum())"
   ]
  },
  {
   "cell_type": "code",
   "execution_count": 4,
   "id": "3446947a",
   "metadata": {},
   "outputs": [
    {
     "data": {
      "text/plain": [
       "(1197, 13)"
      ]
     },
     "execution_count": 4,
     "metadata": {},
     "output_type": "execute_result"
    }
   ],
   "source": [
    "# Drop unnecessary columns\n",
    "data = data.drop(['date', 'day'], axis=1)\n",
    "data.shape"
   ]
  },
  {
   "cell_type": "code",
   "execution_count": 5,
   "id": "30bc3d16",
   "metadata": {},
   "outputs": [
    {
     "name": "stdout",
     "output_type": "stream",
     "text": [
      "<class 'pandas.core.frame.DataFrame'>\n",
      "RangeIndex: 1197 entries, 0 to 1196\n",
      "Data columns (total 13 columns):\n",
      " #   Column                 Non-Null Count  Dtype  \n",
      "---  ------                 --------------  -----  \n",
      " 0   quarter                1197 non-null   object \n",
      " 1   department             1197 non-null   object \n",
      " 2   team                   1197 non-null   int64  \n",
      " 3   targeted_productivity  1197 non-null   float64\n",
      " 4   smv                    1197 non-null   float64\n",
      " 5   wip                    691 non-null    float64\n",
      " 6   over_time              1197 non-null   int64  \n",
      " 7   incentive              1197 non-null   int64  \n",
      " 8   idle_time              1197 non-null   float64\n",
      " 9   idle_men               1197 non-null   int64  \n",
      " 10  no_of_style_change     1197 non-null   int64  \n",
      " 11  no_of_workers          1197 non-null   float64\n",
      " 12  actual_productivity    1197 non-null   float64\n",
      "dtypes: float64(6), int64(5), object(2)\n",
      "memory usage: 121.7+ KB\n",
      "None\n"
     ]
    }
   ],
   "source": [
    "print(data.info())"
   ]
  },
  {
   "cell_type": "code",
   "execution_count": 6,
   "id": "81b05d9f",
   "metadata": {},
   "outputs": [
    {
     "name": "stdout",
     "output_type": "stream",
     "text": [
      "   quarter  department  team  targeted_productivity    smv     wip  over_time  \\\n",
      "0        0           2     8                   0.80  26.16  1108.0       7080   \n",
      "1        0           1     1                   0.75   3.94     NaN        960   \n",
      "2        0           2    11                   0.80  11.41   968.0       3660   \n",
      "3        0           2    12                   0.80  11.41   968.0       3660   \n",
      "4        0           2     6                   0.80  25.90  1170.0       1920   \n",
      "\n",
      "   incentive  idle_time  idle_men  no_of_style_change  no_of_workers  \\\n",
      "0         98        0.0         0                   0           59.0   \n",
      "1          0        0.0         0                   0            8.0   \n",
      "2         50        0.0         0                   0           30.5   \n",
      "3         50        0.0         0                   0           30.5   \n",
      "4         50        0.0         0                   0           56.0   \n",
      "\n",
      "   actual_productivity  \n",
      "0             0.940725  \n",
      "1             0.886500  \n",
      "2             0.800570  \n",
      "3             0.800570  \n",
      "4             0.800382  \n"
     ]
    }
   ],
   "source": [
    "# Label encoding for categorical variables\n",
    "# Import label encoder \n",
    "from sklearn import preprocessing\n",
    "# label_encoder object knows how to understand word labels. \n",
    "label_encoder = preprocessing.LabelEncoder()\n",
    "# Encode labels in column 'Country'. \n",
    "data['quarter'] = label_encoder.fit_transform(data['quarter'])\n",
    "data['department'] = label_encoder.fit_transform(data['department'])\n",
    "print(data.head())"
   ]
  },
  {
   "cell_type": "code",
   "execution_count": 7,
   "id": "929967bf",
   "metadata": {},
   "outputs": [
    {
     "data": {
      "text/html": [
       "<div>\n",
       "<style scoped>\n",
       "    .dataframe tbody tr th:only-of-type {\n",
       "        vertical-align: middle;\n",
       "    }\n",
       "\n",
       "    .dataframe tbody tr th {\n",
       "        vertical-align: top;\n",
       "    }\n",
       "\n",
       "    .dataframe thead th {\n",
       "        text-align: right;\n",
       "    }\n",
       "</style>\n",
       "<table border=\"1\" class=\"dataframe\">\n",
       "  <thead>\n",
       "    <tr style=\"text-align: right;\">\n",
       "      <th></th>\n",
       "      <th>quarter</th>\n",
       "      <th>department</th>\n",
       "      <th>team</th>\n",
       "      <th>targeted_productivity</th>\n",
       "      <th>smv</th>\n",
       "      <th>wip</th>\n",
       "      <th>over_time</th>\n",
       "      <th>incentive</th>\n",
       "      <th>idle_time</th>\n",
       "      <th>idle_men</th>\n",
       "      <th>no_of_style_change</th>\n",
       "      <th>no_of_workers</th>\n",
       "      <th>actual_productivity</th>\n",
       "    </tr>\n",
       "  </thead>\n",
       "  <tbody>\n",
       "    <tr>\n",
       "      <th>count</th>\n",
       "      <td>1197.000000</td>\n",
       "      <td>1197.000000</td>\n",
       "      <td>1197.000000</td>\n",
       "      <td>1197.000000</td>\n",
       "      <td>1197.000000</td>\n",
       "      <td>691.000000</td>\n",
       "      <td>1197.000000</td>\n",
       "      <td>1197.000000</td>\n",
       "      <td>1197.000000</td>\n",
       "      <td>1197.000000</td>\n",
       "      <td>1197.000000</td>\n",
       "      <td>1197.000000</td>\n",
       "      <td>1197.000000</td>\n",
       "    </tr>\n",
       "    <tr>\n",
       "      <th>mean</th>\n",
       "      <td>1.399332</td>\n",
       "      <td>1.369256</td>\n",
       "      <td>6.426901</td>\n",
       "      <td>0.729632</td>\n",
       "      <td>15.062172</td>\n",
       "      <td>1190.465991</td>\n",
       "      <td>4567.460317</td>\n",
       "      <td>38.210526</td>\n",
       "      <td>0.730159</td>\n",
       "      <td>0.369256</td>\n",
       "      <td>0.150376</td>\n",
       "      <td>34.609858</td>\n",
       "      <td>0.735091</td>\n",
       "    </tr>\n",
       "    <tr>\n",
       "      <th>std</th>\n",
       "      <td>1.215535</td>\n",
       "      <td>0.805909</td>\n",
       "      <td>3.463963</td>\n",
       "      <td>0.097891</td>\n",
       "      <td>10.943219</td>\n",
       "      <td>1837.455001</td>\n",
       "      <td>3348.823563</td>\n",
       "      <td>160.182643</td>\n",
       "      <td>12.709757</td>\n",
       "      <td>3.268987</td>\n",
       "      <td>0.427848</td>\n",
       "      <td>22.197687</td>\n",
       "      <td>0.174488</td>\n",
       "    </tr>\n",
       "    <tr>\n",
       "      <th>min</th>\n",
       "      <td>0.000000</td>\n",
       "      <td>0.000000</td>\n",
       "      <td>1.000000</td>\n",
       "      <td>0.070000</td>\n",
       "      <td>2.900000</td>\n",
       "      <td>7.000000</td>\n",
       "      <td>0.000000</td>\n",
       "      <td>0.000000</td>\n",
       "      <td>0.000000</td>\n",
       "      <td>0.000000</td>\n",
       "      <td>0.000000</td>\n",
       "      <td>2.000000</td>\n",
       "      <td>0.233705</td>\n",
       "    </tr>\n",
       "    <tr>\n",
       "      <th>25%</th>\n",
       "      <td>0.000000</td>\n",
       "      <td>1.000000</td>\n",
       "      <td>3.000000</td>\n",
       "      <td>0.700000</td>\n",
       "      <td>3.940000</td>\n",
       "      <td>774.500000</td>\n",
       "      <td>1440.000000</td>\n",
       "      <td>0.000000</td>\n",
       "      <td>0.000000</td>\n",
       "      <td>0.000000</td>\n",
       "      <td>0.000000</td>\n",
       "      <td>9.000000</td>\n",
       "      <td>0.650307</td>\n",
       "    </tr>\n",
       "    <tr>\n",
       "      <th>50%</th>\n",
       "      <td>1.000000</td>\n",
       "      <td>2.000000</td>\n",
       "      <td>6.000000</td>\n",
       "      <td>0.750000</td>\n",
       "      <td>15.260000</td>\n",
       "      <td>1039.000000</td>\n",
       "      <td>3960.000000</td>\n",
       "      <td>0.000000</td>\n",
       "      <td>0.000000</td>\n",
       "      <td>0.000000</td>\n",
       "      <td>0.000000</td>\n",
       "      <td>34.000000</td>\n",
       "      <td>0.773333</td>\n",
       "    </tr>\n",
       "    <tr>\n",
       "      <th>75%</th>\n",
       "      <td>2.000000</td>\n",
       "      <td>2.000000</td>\n",
       "      <td>9.000000</td>\n",
       "      <td>0.800000</td>\n",
       "      <td>24.260000</td>\n",
       "      <td>1252.500000</td>\n",
       "      <td>6960.000000</td>\n",
       "      <td>50.000000</td>\n",
       "      <td>0.000000</td>\n",
       "      <td>0.000000</td>\n",
       "      <td>0.000000</td>\n",
       "      <td>57.000000</td>\n",
       "      <td>0.850253</td>\n",
       "    </tr>\n",
       "    <tr>\n",
       "      <th>max</th>\n",
       "      <td>4.000000</td>\n",
       "      <td>2.000000</td>\n",
       "      <td>12.000000</td>\n",
       "      <td>0.800000</td>\n",
       "      <td>54.560000</td>\n",
       "      <td>23122.000000</td>\n",
       "      <td>25920.000000</td>\n",
       "      <td>3600.000000</td>\n",
       "      <td>300.000000</td>\n",
       "      <td>45.000000</td>\n",
       "      <td>2.000000</td>\n",
       "      <td>89.000000</td>\n",
       "      <td>1.120437</td>\n",
       "    </tr>\n",
       "  </tbody>\n",
       "</table>\n",
       "</div>"
      ],
      "text/plain": [
       "           quarter   department         team  targeted_productivity  \\\n",
       "count  1197.000000  1197.000000  1197.000000            1197.000000   \n",
       "mean      1.399332     1.369256     6.426901               0.729632   \n",
       "std       1.215535     0.805909     3.463963               0.097891   \n",
       "min       0.000000     0.000000     1.000000               0.070000   \n",
       "25%       0.000000     1.000000     3.000000               0.700000   \n",
       "50%       1.000000     2.000000     6.000000               0.750000   \n",
       "75%       2.000000     2.000000     9.000000               0.800000   \n",
       "max       4.000000     2.000000    12.000000               0.800000   \n",
       "\n",
       "               smv           wip     over_time    incentive    idle_time  \\\n",
       "count  1197.000000    691.000000   1197.000000  1197.000000  1197.000000   \n",
       "mean     15.062172   1190.465991   4567.460317    38.210526     0.730159   \n",
       "std      10.943219   1837.455001   3348.823563   160.182643    12.709757   \n",
       "min       2.900000      7.000000      0.000000     0.000000     0.000000   \n",
       "25%       3.940000    774.500000   1440.000000     0.000000     0.000000   \n",
       "50%      15.260000   1039.000000   3960.000000     0.000000     0.000000   \n",
       "75%      24.260000   1252.500000   6960.000000    50.000000     0.000000   \n",
       "max      54.560000  23122.000000  25920.000000  3600.000000   300.000000   \n",
       "\n",
       "          idle_men  no_of_style_change  no_of_workers  actual_productivity  \n",
       "count  1197.000000         1197.000000    1197.000000          1197.000000  \n",
       "mean      0.369256            0.150376      34.609858             0.735091  \n",
       "std       3.268987            0.427848      22.197687             0.174488  \n",
       "min       0.000000            0.000000       2.000000             0.233705  \n",
       "25%       0.000000            0.000000       9.000000             0.650307  \n",
       "50%       0.000000            0.000000      34.000000             0.773333  \n",
       "75%       0.000000            0.000000      57.000000             0.850253  \n",
       "max      45.000000            2.000000      89.000000             1.120437  "
      ]
     },
     "execution_count": 7,
     "metadata": {},
     "output_type": "execute_result"
    }
   ],
   "source": [
    "data.describe()"
   ]
  },
  {
   "cell_type": "code",
   "execution_count": 8,
   "id": "2d1da5e3",
   "metadata": {},
   "outputs": [
    {
     "name": "stdout",
     "output_type": "stream",
     "text": [
      "   quarter  department  team  targeted_productivity    smv     wip  over_time  \\\n",
      "0        0           2     8                   0.80  26.16  1108.0       7080   \n",
      "1        0           1     1                   0.75   3.94     0.0        960   \n",
      "2        0           2    11                   0.80  11.41   968.0       3660   \n",
      "3        0           2    12                   0.80  11.41   968.0       3660   \n",
      "4        0           2     6                   0.80  25.90  1170.0       1920   \n",
      "\n",
      "   incentive  idle_time  idle_men  no_of_style_change  no_of_workers  \\\n",
      "0         98        0.0         0                   0           59.0   \n",
      "1          0        0.0         0                   0            8.0   \n",
      "2         50        0.0         0                   0           30.5   \n",
      "3         50        0.0         0                   0           30.5   \n",
      "4         50        0.0         0                   0           56.0   \n",
      "\n",
      "   actual_productivity  \n",
      "0             0.940725  \n",
      "1             0.886500  \n",
      "2             0.800570  \n",
      "3             0.800570  \n",
      "4             0.800382  \n"
     ]
    }
   ],
   "source": [
    "# Handle missing values\n",
    "data = data.fillna(0)\n",
    "print(data.head())"
   ]
  },
  {
   "cell_type": "code",
   "execution_count": 9,
   "id": "da7d1ce1",
   "metadata": {},
   "outputs": [],
   "source": [
    "#Split the data into features and labels\n",
    "features = data.drop('actual_productivity', axis=1)\n",
    "labels = data.actual_productivity"
   ]
  },
  {
   "cell_type": "markdown",
   "id": "4c80b93c",
   "metadata": {},
   "source": [
    "### 3. Perform a train test split to obtain training and testing dataset"
   ]
  },
  {
   "cell_type": "code",
   "execution_count": 10,
   "id": "eecace44",
   "metadata": {},
   "outputs": [],
   "source": [
    "SEED = 12345\n",
    "X_train, X_test, y_train, y_test = train_test_split(features, labels, test_size=0.2, random_state=SEED)"
   ]
  },
  {
   "cell_type": "markdown",
   "id": "04fd4f93",
   "metadata": {},
   "source": [
    "### 4. Data Normalization"
   ]
  },
  {
   "cell_type": "code",
   "execution_count": 11,
   "id": "d6890c44",
   "metadata": {},
   "outputs": [],
   "source": [
    "from sklearn.preprocessing import StandardScaler\n",
    "standardizer = StandardScaler()\n",
    "standardizer.fit(X_train)\n",
    "X_train = standardizer.transform(X_train)\n",
    "X_test = standardizer.transform(X_test)"
   ]
  },
  {
   "cell_type": "markdown",
   "id": "a17d433f",
   "metadata": {},
   "source": [
    "### 5. Define the Neural Network model using Functional API"
   ]
  },
  {
   "cell_type": "code",
   "execution_count": 12,
   "id": "7b1470fd",
   "metadata": {},
   "outputs": [
    {
     "name": "stdout",
     "output_type": "stream",
     "text": [
      "Model: \"model\"\n",
      "_________________________________________________________________\n",
      " Layer (type)                Output Shape              Param #   \n",
      "=================================================================\n",
      " input_1 (InputLayer)        [(None, 12)]              0         \n",
      "                                                                 \n",
      " dense (Dense)               (None, 128)               1664      \n",
      "                                                                 \n",
      " dense_1 (Dense)             (None, 64)                8256      \n",
      "                                                                 \n",
      " dense_2 (Dense)             (None, 32)                2080      \n",
      "                                                                 \n",
      " dense_3 (Dense)             (None, 1)                 33        \n",
      "                                                                 \n",
      "=================================================================\n",
      "Total params: 12,033\n",
      "Trainable params: 12,033\n",
      "Non-trainable params: 0\n",
      "_________________________________________________________________\n"
     ]
    }
   ],
   "source": [
    "#Start with input layer\n",
    "nIn = X_train.shape[1]\n",
    "inputs = keras.Input(shape=(nIn,))\n",
    "h1 = layers.Dense(128, activation='elu')\n",
    "h2 = layers.Dense(64, activation='elu')\n",
    "h3 = layers.Dense(32, activation='elu')\n",
    "out_layer = layers.Dense(1)\n",
    "\n",
    "#Use Functional API to link layers together\n",
    "x = h1(inputs)\n",
    "x = h2(x)\n",
    "x = h3(x)\n",
    "outputs = out_layer(x)\n",
    "\n",
    "#Create a model by using the model object\n",
    "model = keras.Model(inputs=inputs, outputs=outputs)\n",
    "model.summary()"
   ]
  },
  {
   "cell_type": "markdown",
   "id": "7e201835",
   "metadata": {},
   "source": [
    "### 6. Compile model"
   ]
  },
  {
   "cell_type": "code",
   "execution_count": 13,
   "id": "2aeaecce",
   "metadata": {},
   "outputs": [],
   "source": [
    "model.compile(optimizer='adam', loss='mse', metrics=['mae'])"
   ]
  },
  {
   "cell_type": "markdown",
   "id": "4a656b2a",
   "metadata": {},
   "source": [
    "### 7. Perform model training"
   ]
  },
  {
   "cell_type": "code",
   "execution_count": 14,
   "id": "47491493",
   "metadata": {
    "scrolled": true
   },
   "outputs": [
    {
     "name": "stdout",
     "output_type": "stream",
     "text": [
      "Epoch 1/30\n",
      "30/30 [==============================] - 1s 8ms/step - loss: 0.2158 - mae: 0.3346 - val_loss: 0.0552 - val_mae: 0.1610\n",
      "Epoch 2/30\n",
      "30/30 [==============================] - 0s 3ms/step - loss: 0.0370 - mae: 0.1390 - val_loss: 0.0337 - val_mae: 0.1270\n",
      "Epoch 3/30\n",
      "30/30 [==============================] - 0s 3ms/step - loss: 0.0258 - mae: 0.1202 - val_loss: 0.0297 - val_mae: 0.1267\n",
      "Epoch 4/30\n",
      "30/30 [==============================] - 0s 3ms/step - loss: 0.0233 - mae: 0.1153 - val_loss: 0.0293 - val_mae: 0.1146\n",
      "Epoch 5/30\n",
      "30/30 [==============================] - 0s 3ms/step - loss: 0.0218 - mae: 0.1077 - val_loss: 0.0256 - val_mae: 0.1114\n",
      "Epoch 6/30\n",
      "30/30 [==============================] - 0s 3ms/step - loss: 0.0211 - mae: 0.1074 - val_loss: 0.0268 - val_mae: 0.1163\n",
      "Epoch 7/30\n",
      "30/30 [==============================] - 0s 3ms/step - loss: 0.0235 - mae: 0.1116 - val_loss: 0.0263 - val_mae: 0.1206\n",
      "Epoch 8/30\n",
      "30/30 [==============================] - 0s 3ms/step - loss: 0.0253 - mae: 0.1127 - val_loss: 0.0443 - val_mae: 0.1395\n",
      "Epoch 9/30\n",
      "30/30 [==============================] - 0s 3ms/step - loss: 0.0214 - mae: 0.1071 - val_loss: 0.0230 - val_mae: 0.1079\n",
      "Epoch 10/30\n",
      "30/30 [==============================] - 0s 3ms/step - loss: 0.0189 - mae: 0.0991 - val_loss: 0.0267 - val_mae: 0.1101\n",
      "Epoch 11/30\n",
      "30/30 [==============================] - 0s 3ms/step - loss: 0.0198 - mae: 0.1033 - val_loss: 0.0210 - val_mae: 0.1016\n",
      "Epoch 12/30\n",
      "30/30 [==============================] - 0s 3ms/step - loss: 0.0214 - mae: 0.1077 - val_loss: 0.0338 - val_mae: 0.1301\n",
      "Epoch 13/30\n",
      "30/30 [==============================] - 0s 3ms/step - loss: 0.0216 - mae: 0.1042 - val_loss: 0.0224 - val_mae: 0.1040\n",
      "Epoch 14/30\n",
      "30/30 [==============================] - 0s 3ms/step - loss: 0.0203 - mae: 0.1023 - val_loss: 0.0222 - val_mae: 0.0999\n",
      "Epoch 15/30\n",
      "30/30 [==============================] - 0s 3ms/step - loss: 0.0181 - mae: 0.0969 - val_loss: 0.0212 - val_mae: 0.1010\n",
      "Epoch 16/30\n",
      "30/30 [==============================] - 0s 3ms/step - loss: 0.0197 - mae: 0.1027 - val_loss: 0.0220 - val_mae: 0.1066\n",
      "Epoch 17/30\n",
      "30/30 [==============================] - 0s 3ms/step - loss: 0.0189 - mae: 0.0979 - val_loss: 0.0275 - val_mae: 0.1100\n",
      "Epoch 18/30\n",
      "30/30 [==============================] - 0s 3ms/step - loss: 0.0190 - mae: 0.0981 - val_loss: 0.0214 - val_mae: 0.1088\n",
      "Epoch 19/30\n",
      "30/30 [==============================] - 0s 3ms/step - loss: 0.0173 - mae: 0.0941 - val_loss: 0.0220 - val_mae: 0.1036\n",
      "Epoch 20/30\n",
      "30/30 [==============================] - 0s 3ms/step - loss: 0.0172 - mae: 0.0942 - val_loss: 0.0199 - val_mae: 0.0957\n",
      "Epoch 21/30\n",
      "30/30 [==============================] - 0s 3ms/step - loss: 0.0186 - mae: 0.0988 - val_loss: 0.0243 - val_mae: 0.1113\n",
      "Epoch 22/30\n",
      "30/30 [==============================] - 0s 3ms/step - loss: 0.0180 - mae: 0.0960 - val_loss: 0.0217 - val_mae: 0.0996\n",
      "Epoch 23/30\n",
      "30/30 [==============================] - 0s 3ms/step - loss: 0.0197 - mae: 0.1006 - val_loss: 0.0228 - val_mae: 0.1067\n",
      "Epoch 24/30\n",
      "30/30 [==============================] - 0s 3ms/step - loss: 0.0164 - mae: 0.0912 - val_loss: 0.0212 - val_mae: 0.0998\n",
      "Epoch 25/30\n",
      "30/30 [==============================] - 0s 3ms/step - loss: 0.0175 - mae: 0.0949 - val_loss: 0.0208 - val_mae: 0.0968\n",
      "Epoch 26/30\n",
      "30/30 [==============================] - 0s 3ms/step - loss: 0.0173 - mae: 0.0933 - val_loss: 0.0206 - val_mae: 0.0984\n",
      "Epoch 27/30\n",
      "30/30 [==============================] - 0s 3ms/step - loss: 0.0184 - mae: 0.1012 - val_loss: 0.0202 - val_mae: 0.1001\n",
      "Epoch 28/30\n",
      "30/30 [==============================] - 0s 3ms/step - loss: 0.0170 - mae: 0.0937 - val_loss: 0.0208 - val_mae: 0.1018\n",
      "Epoch 29/30\n",
      "30/30 [==============================] - 0s 3ms/step - loss: 0.0180 - mae: 0.0970 - val_loss: 0.0258 - val_mae: 0.1141\n",
      "Epoch 30/30\n",
      "30/30 [==============================] - 0s 3ms/step - loss: 0.0183 - mae: 0.1022 - val_loss: 0.0197 - val_mae: 0.0994\n"
     ]
    }
   ],
   "source": [
    "BATCH_SIZE = 32\n",
    "EPOCHS = 30\n",
    "\n",
    "history = model.fit(X_train, y_train, validation_data=(X_test, y_test), batch_size=BATCH_SIZE, epochs=EPOCHS)"
   ]
  },
  {
   "cell_type": "markdown",
   "id": "6c5fdd89",
   "metadata": {},
   "source": [
    "### 8. Visualize the result of model training"
   ]
  },
  {
   "cell_type": "code",
   "execution_count": 15,
   "id": "5db0e73d",
   "metadata": {
    "scrolled": true
   },
   "outputs": [
    {
     "data": {
      "image/png": "[encoded data removed]",
      "text/plain": [
       "<Figure size 432x288 with 1 Axes>"
      ]
     },
     "metadata": {
      "needs_background": "light"
     },
     "output_type": "display_data"
    },
    {
     "data": {
      "image/png": "[encoded data removed]",
      "text/plain": [
       "<Figure size 432x288 with 1 Axes>"
      ]
     },
     "metadata": {
      "needs_background": "light"
     },
     "output_type": "display_data"
    },
    {
     "data": {
      "text/plain": [
       "<Figure size 432x288 with 0 Axes>"
      ]
     },
     "metadata": {},
     "output_type": "display_data"
    }
   ],
   "source": [
    "training_loss = history.history['loss']\n",
    "val_loss = history.history['val_loss']\n",
    "training_acc = history.history['mae']\n",
    "val_acc = history.history['val_mae']\n",
    "epochs_x_axis = history.epoch\n",
    "\n",
    "plt.plot(epochs_x_axis , training_loss, label='Training Loss')\n",
    "plt.plot(epochs_x_axis, val_loss, label='Validation Loss')\n",
    "plt.title(\"Training vs Validation Loss\") # easier to detect over/under fitting using validation plot\n",
    "plt.legend()\n",
    "plt.figure()\n",
    "\n",
    "plt.plot(epochs_x_axis, training_acc, label='Training mae')\n",
    "plt.plot(epochs_x_axis, val_acc, label='Validation mae')\n",
    "plt.title('Training vs Validation mae')\n",
    "plt.legend()\n",
    "plt.figure()\n",
    "\n",
    "plt.show()"
   ]
  },
  {
   "cell_type": "markdown",
   "id": "20ef3aa1",
   "metadata": {},
   "source": [
    "### 9. Make Prediction with your model"
   ]
  },
  {
   "cell_type": "code",
   "execution_count": 16,
   "id": "a4aaee5d",
   "metadata": {},
   "outputs": [],
   "source": [
    "predictions = model.predict(X_test)\n",
    "pred_vs_label = np.concatenate((predictions, np.expand_dims(y_test, axis=1)), axis=1)"
   ]
  },
  {
   "cell_type": "code",
   "execution_count": 17,
   "id": "400e303e",
   "metadata": {},
   "outputs": [
    {
     "data": {
      "text/html": [
       "<div>\n",
       "<style scoped>\n",
       "    .dataframe tbody tr th:only-of-type {\n",
       "        vertical-align: middle;\n",
       "    }\n",
       "\n",
       "    .dataframe tbody tr th {\n",
       "        vertical-align: top;\n",
       "    }\n",
       "\n",
       "    .dataframe thead th {\n",
       "        text-align: right;\n",
       "    }\n",
       "</style>\n",
       "<table border=\"1\" class=\"dataframe\">\n",
       "  <thead>\n",
       "    <tr style=\"text-align: right;\">\n",
       "      <th></th>\n",
       "      <th>prediction</th>\n",
       "      <th>labels</th>\n",
       "    </tr>\n",
       "  </thead>\n",
       "  <tbody>\n",
       "    <tr>\n",
       "      <th>0</th>\n",
       "      <td>0.632879</td>\n",
       "      <td>0.734646</td>\n",
       "    </tr>\n",
       "    <tr>\n",
       "      <th>1</th>\n",
       "      <td>0.723493</td>\n",
       "      <td>0.664875</td>\n",
       "    </tr>\n",
       "    <tr>\n",
       "      <th>2</th>\n",
       "      <td>0.955047</td>\n",
       "      <td>0.850569</td>\n",
       "    </tr>\n",
       "    <tr>\n",
       "      <th>3</th>\n",
       "      <td>0.835002</td>\n",
       "      <td>0.800031</td>\n",
       "    </tr>\n",
       "    <tr>\n",
       "      <th>4</th>\n",
       "      <td>0.844835</td>\n",
       "      <td>0.800077</td>\n",
       "    </tr>\n",
       "    <tr>\n",
       "      <th>...</th>\n",
       "      <td>...</td>\n",
       "      <td>...</td>\n",
       "    </tr>\n",
       "    <tr>\n",
       "      <th>235</th>\n",
       "      <td>0.706579</td>\n",
       "      <td>0.700614</td>\n",
       "    </tr>\n",
       "    <tr>\n",
       "      <th>236</th>\n",
       "      <td>0.724966</td>\n",
       "      <td>0.870581</td>\n",
       "    </tr>\n",
       "    <tr>\n",
       "      <th>237</th>\n",
       "      <td>0.572762</td>\n",
       "      <td>0.283958</td>\n",
       "    </tr>\n",
       "    <tr>\n",
       "      <th>238</th>\n",
       "      <td>0.833305</td>\n",
       "      <td>0.861875</td>\n",
       "    </tr>\n",
       "    <tr>\n",
       "      <th>239</th>\n",
       "      <td>0.803184</td>\n",
       "      <td>0.906667</td>\n",
       "    </tr>\n",
       "  </tbody>\n",
       "</table>\n",
       "<p>240 rows × 2 columns</p>\n",
       "</div>"
      ],
      "text/plain": [
       "     prediction    labels\n",
       "0      0.632879  0.734646\n",
       "1      0.723493  0.664875\n",
       "2      0.955047  0.850569\n",
       "3      0.835002  0.800031\n",
       "4      0.844835  0.800077\n",
       "..          ...       ...\n",
       "235    0.706579  0.700614\n",
       "236    0.724966  0.870581\n",
       "237    0.572762  0.283958\n",
       "238    0.833305  0.861875\n",
       "239    0.803184  0.906667\n",
       "\n",
       "[240 rows x 2 columns]"
      ]
     },
     "execution_count": 17,
     "metadata": {},
     "output_type": "execute_result"
    }
   ],
   "source": [
    "pred_vs_label = pd.DataFrame(data=pred_vs_label, columns=['prediction', 'labels'])\n",
    "pred_vs_label"
   ]
  },
  {
   "cell_type": "markdown",
   "id": "b6c3e346",
   "metadata": {},
   "source": [
    "#### Evaluate the regression model"
   ]
  },
  {
   "cell_type": "code",
   "execution_count": 18,
   "id": "808d3878",
   "metadata": {},
   "outputs": [
    {
     "name": "stdout",
     "output_type": "stream",
     "text": [
      "Mean Absolute Error for the actual and predicted values is  0.0994\n"
     ]
    }
   ],
   "source": [
    "from sklearn.metrics import mean_absolute_error\n",
    "score = round(mean_absolute_error(y_test, predictions), 4)\n",
    "print(\"Mean Absolute Error for the actual and predicted values is \", score)"
   ]
  },
  {
   "cell_type": "markdown",
   "id": "15411251",
   "metadata": {},
   "source": [
    "### 10. Visualizing the prediction vs label graph"
   ]
  },
  {
   "cell_type": "code",
   "execution_count": 19,
   "id": "6677ad90",
   "metadata": {},
   "outputs": [
    {
     "name": "stderr",
     "output_type": "stream",
     "text": [
      "C:\\Users\\user\\anaconda3\\lib\\site-packages\\seaborn\\_decorators.py:36: FutureWarning: Pass the following variables as keyword args: x, y. From version 0.12, the only valid positional argument will be `data`, and passing other arguments without an explicit keyword will result in an error or misinterpretation.\n",
      "  warnings.warn(\n"
     ]
    },
    {
     "data": {
      "text/plain": [
       "<AxesSubplot:xlabel='actual_productivity'>"
      ]
     },
     "execution_count": 19,
     "metadata": {},
     "output_type": "execute_result"
    },
    {
     "data": {
      "image/png": "[encoded data removed]",
      "text/plain": [
       "<Figure size 432x288 with 1 Axes>"
      ]
     },
     "metadata": {
      "needs_background": "light"
     },
     "output_type": "display_data"
    }
   ],
   "source": [
    "import seaborn as sns\n",
    "\n",
    "#create scatterplot with regression line\n",
    "sns.regplot(y_test, predictions, ci=None, scatter_kws={\"color\": \"blue\"}, line_kws={\"color\": \"red\"})"
   ]
  }
 ],
 "metadata": {
  "kernelspec": {
   "display_name": "Python 3",
   "language": "python",
   "name": "python3"
  },
  "language_info": {
   "codemirror_mode": {
    "name": "ipython",
    "version": 3
   },
   "file_extension": ".py",
   "mimetype": "text/x-python",
   "name": "python",
   "nbconvert_exporter": "python",
   "pygments_lexer": "ipython3",
   "version": "3.8.8"
  }
 },
 "nbformat": 4,
 "nbformat_minor": 5
}
